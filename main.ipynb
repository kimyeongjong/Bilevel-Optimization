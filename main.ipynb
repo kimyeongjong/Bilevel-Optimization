{
 "cells": [
  {
   "cell_type": "code",
   "execution_count": 18,
   "id": "f02cb5f3-25f6-4524-a6a5-113311f88c8d",
   "metadata": {},
   "outputs": [],
   "source": [
    "import os\n",
    "import argparse\n",
    "from dataloader import load_rcv1_data\n",
    "from algorithms import *\n",
    "from utils import save, load, plot\n",
    "import numpy as np"
   ]
  },
  {
   "cell_type": "code",
   "execution_count": 4,
   "id": "46cf6bae-4c90-4f0a-a047-f75575851a16",
   "metadata": {},
   "outputs": [
    {
     "name": "stdout",
     "output_type": "stream",
     "text": [
      "Loaded data from /Users/yj/Desktop/Bilevel-Optimization/dataloader/data/rcv1_10000samples_idx0.npz\n",
      "Data loaded: X shape (10000, 47236), y shape (10000,)\n",
      "Set parameter Username\n",
      "Set parameter LicenseID to value 2685030\n",
      "Academic license - for non-commercial use only - expires 2026-07-06\n",
      "Hinge_loss_minimization\n",
      "Set parameter OutputFlag to value 1\n",
      "Gurobi Optimizer version 12.0.3 build v12.0.3rc0 (mac64[arm] - Darwin 24.6.0 24G84)\n",
      "\n",
      "CPU model: Apple M4 Pro\n",
      "Thread count: 14 physical cores, 14 logical processors, using up to 14 threads\n",
      "\n",
      "Optimize a model with 10000 rows, 57237 columns and 767816 nonzeros\n",
      "Model fingerprint: 0xf788dc65\n",
      "Coefficient statistics:\n",
      "  Matrix range     [5e-03, 1e+00]\n",
      "  Objective range  [1e-04, 1e-04]\n",
      "  Bounds range     [5e+01, 5e+01]\n",
      "  RHS range        [1e+00, 1e+00]\n",
      "Presolve removed 218 rows and 42989 columns\n",
      "Presolve time: 0.21s\n",
      "Presolved: 9782 rows, 14248 columns, 643805 nonzeros\n",
      "\n",
      "Concurrent LP optimizer: primal simplex, dual simplex, and barrier\n",
      "Showing barrier log only...\n",
      "\n",
      "\n",
      "Barrier performed 0 iterations in 0.47 seconds (0.95 work units)\n",
      "Barrier solve interrupted - model solved by another algorithm\n",
      "\n",
      "\n",
      "Solved with primal simplex\n",
      "Iteration    Objective       Primal Inf.    Dual Inf.      Time\n",
      "    4275    0.0000000e+00   0.000000e+00   0.000000e+00      0s\n",
      "\n",
      "Solved in 4275 iterations and 0.50 seconds (1.38 work units)\n",
      "Optimal objective  0.000000000e+00\n",
      "Used algorithm:  -1\n",
      "w_opt: [-50. -50. -50. ... -50. -50. -50.] b_opt: -28.322318570422958 xi_opt: [0. 0. 0. ... 0. 0. 0.] Minimum hinge loss: 0.0000\n",
      "Type of _: <class 'numpy.ndarray'>\n",
      "Optimal hinge loss: 0.0000\n",
      "L1_norm_minimize_among_hinge_loss_minimizers\n",
      "Set parameter OutputFlag to value 1\n",
      "Gurobi Optimizer version 12.0.3 build v12.0.3rc0 (mac64[arm] - Darwin 24.6.0 24G84)\n",
      "\n",
      "CPU model: Apple M4 Pro\n",
      "Thread count: 14 physical cores, 14 logical processors, using up to 14 threads\n",
      "\n",
      "Optimize a model with 104473 rows, 104473 columns and 966760 nonzeros\n",
      "Model fingerprint: 0x40ff4519\n",
      "Coefficient statistics:\n",
      "  Matrix range     [1e-04, 1e+00]\n",
      "  Objective range  [2e-05, 2e-05]\n",
      "  Bounds range     [5e+01, 5e+01]\n",
      "  RHS range        [1e+00, 1e+00]\n",
      "Presolve removed 46726 rows and 56692 columns\n",
      "Presolve time: 0.20s\n",
      "Presolved: 57747 rows, 47781 columns, 852502 nonzeros\n",
      "\n",
      "Concurrent LP optimizer: primal simplex, dual simplex, and barrier\n",
      "Showing barrier log only...\n",
      "\n",
      "Ordering time: 3.21s\n",
      "\n",
      "Barrier statistics:\n",
      " Dense cols : 1206\n",
      " AA' NZ     : 4.662e+06\n",
      " Factor NZ  : 4.688e+07 (roughly 400 MB of memory)\n",
      " Factor Ops : 2.890e+11 (less than 1 second per iteration)\n",
      " Threads    : 12\n",
      "\n",
      "                  Objective                Residual\n",
      "Iter       Primal          Dual         Primal    Dual     Compl     Time\n",
      "   0   4.75694597e+00 -1.09948242e+03  1.46e+03 0.00e+00  5.83e+00     4s\n",
      "   1   6.79259168e+00 -3.43693691e+02  3.18e+02 1.66e-02  1.71e+00     4s\n",
      "   2   8.97651459e+00 -1.09395019e+02  5.74e+01 5.96e-03  5.64e-01     4s\n",
      "   3   6.77582262e+00 -3.34060158e+01  8.22e+00 1.50e-03  1.81e-01     4s\n",
      "   4   3.03635713e+00 -1.07267193e+01  2.12e+00 5.19e-04  5.86e-02     4s\n",
      "   5   6.69546114e-01 -2.01275197e+00  2.59e-01 1.14e-04  1.10e-02     5s\n",
      "   6   1.77781725e-01 -2.05186323e-01  4.34e-02 8.68e-06  1.54e-03     5s\n",
      "   7   8.75196797e-02 -3.54429451e-02  1.96e-02 4.93e-07  4.89e-04     6s\n",
      "   8   5.86988096e-02  1.78759996e-03  8.59e-03 5.51e-08  2.26e-04     6s\n",
      "   9   4.44641378e-02  2.41263046e-02  3.58e-03 1.44e-08  8.06e-05     7s\n",
      "  10   3.58777034e-02  2.95398437e-02  8.70e-04 4.47e-09  2.51e-05     8s\n",
      "  11   3.33415162e-02  3.20388483e-02  1.46e-04 8.08e-10  5.16e-06     8s\n",
      "  12   3.28203269e-02  3.26806853e-02  1.49e-05 3.35e-11  5.53e-07     9s\n",
      "  13   3.27447547e-02  3.27330724e-02  6.85e-07 2.27e-12  4.62e-08    10s\n",
      "  14   3.27387441e-02  3.27375898e-02  1.42e-07 1.89e-13  4.57e-09    10s\n",
      "  15   3.27381279e-02  3.27380721e-02  5.63e-08 4.15e-15  2.21e-10    11s\n",
      "  16   3.27381156e-02  3.27380794e-02  5.06e-08 6.91e-13  1.43e-10    12s\n",
      "  17   3.27381108e-02  3.27380840e-02  6.12e-08 2.84e-11  1.06e-10    13s\n",
      "  18   3.27381078e-02  3.27380850e-02  6.43e-08 2.30e-11  9.05e-11    13s\n",
      "  19   3.27381057e-02  3.27380854e-02  6.59e-08 2.05e-11  8.06e-11    14s\n",
      "  20   3.27381026e-02  3.27380862e-02  5.34e-08 1.61e-11  6.50e-11    15s\n",
      "  21   3.27380998e-02  3.27380873e-02  4.69e-08 1.51e-10  4.93e-11    15s\n",
      "  22   3.27380905e-02  3.27380891e-02  1.29e-08 1.11e-11  5.85e-12    16s\n",
      "\n",
      "Barrier solved model in 22 iterations and 15.96 seconds (57.91 work units)\n",
      "Optimal objective 3.27380905e-02\n",
      "\n",
      "Crossover log...\n",
      "\n",
      "   22925 DPushes remaining with DInf 0.0000000e+00                16s\n",
      "       0 DPushes remaining with DInf 0.0000000e+00                17s\n",
      "\n",
      "      64 PPushes remaining with PInf 0.0000000e+00                17s\n",
      "       0 PPushes remaining with PInf 0.0000000e+00                17s\n",
      "\n",
      "  Push phase complete: Pinf 0.0000000e+00, Dinf 1.0786841e-06     17s\n",
      "\n",
      "Iteration    Objective       Primal Inf.    Dual Inf.      Time\n",
      "    2688    3.2738089e-02   0.000000e+00   1.078684e-06     17s\n",
      "\n",
      "Solved with barrier\n",
      "    2689    3.2738089e-02   0.000000e+00   0.000000e+00     17s\n",
      "\n",
      "Solved in 2689 iterations and 16.69 seconds (60.42 work units)\n",
      "Optimal objective  3.273808909e-02\n",
      "Used algorithm:  -1\n",
      "w_opt: [0. 0. 0. ... 0. 0. 0.] b_opt: -2.2520720716147267 xi_opt: [0. 0. 0. ... 0. 0. 0.] u_opt: [0. 0. 0. ... 0. 0. 0.] Minimum L1 norm: 0.0327\n",
      "Optimal upper L1 norm: 0.0327\n"
     ]
    },
    {
     "name": "stderr",
     "output_type": "stream",
     "text": [
      "100%|███████████████████████████████████████| 1000/1000 [03:27<00:00,  4.81it/s]\n"
     ]
    },
    {
     "name": "stdout",
     "output_type": "stream",
     "text": [
      "FC-BiO starts.\n",
      "─────────────────────────────\n",
      "[1/14] t = 24.973562\n"
     ]
    },
    {
     "name": "stderr",
     "output_type": "stream",
     "text": [
      "                                                                                "
     ]
    },
    {
     "name": "stdout",
     "output_type": "stream",
     "text": [
      "ψ̂(t) = 5.622480e+01 → ↑ l ← t (Runtime: 3.15s)\n",
      "─────────────────────────────\n",
      "[2/14] t = 37.460344\n"
     ]
    },
    {
     "name": "stderr",
     "output_type": "stream",
     "text": [
      "                                                                                "
     ]
    },
    {
     "name": "stdout",
     "output_type": "stream",
     "text": [
      "ψ̂(t) = 1.487275e+01 → ↑ l ← t (Runtime: 5.84s)\n",
      "─────────────────────────────\n",
      "[3/14] t = 43.703734\n"
     ]
    },
    {
     "name": "stderr",
     "output_type": "stream",
     "text": [
      "                                                                                "
     ]
    },
    {
     "name": "stdout",
     "output_type": "stream",
     "text": [
      "ψ̂(t) = 7.509547e-01 → ↑ l ← t (Runtime: 9.94s)\n",
      "─────────────────────────────\n",
      "[4/14] t = 46.825430\n"
     ]
    },
    {
     "name": "stderr",
     "output_type": "stream",
     "text": [
      "                                                                                "
     ]
    },
    {
     "name": "stdout",
     "output_type": "stream",
     "text": [
      "ψ̂(t) = 6.088642e-01 → ↑ l ← t (Runtime: 9.85s)\n",
      "─────────────────────────────\n",
      "[5/14] t = 48.386277\n"
     ]
    },
    {
     "name": "stderr",
     "output_type": "stream",
     "text": [
      "                                                                                "
     ]
    },
    {
     "name": "stdout",
     "output_type": "stream",
     "text": [
      "ψ̂(t) = 5.052542e-01 → ↑ l ← t (Runtime: 9.74s)\n",
      "─────────────────────────────\n",
      "[6/14] t = 49.166701\n"
     ]
    },
    {
     "name": "stderr",
     "output_type": "stream",
     "text": [
      "                                                                                "
     ]
    },
    {
     "name": "stdout",
     "output_type": "stream",
     "text": [
      "ψ̂(t) = 4.154463e-01 → ↑ l ← t (Runtime: 9.86s)\n",
      "─────────────────────────────\n",
      "[7/14] t = 49.556913\n"
     ]
    },
    {
     "name": "stderr",
     "output_type": "stream",
     "text": [
      "                                                                                "
     ]
    },
    {
     "name": "stdout",
     "output_type": "stream",
     "text": [
      "ψ̂(t) = 3.280422e-01 → ↑ l ← t (Runtime: 9.76s)\n",
      "─────────────────────────────\n",
      "[8/14] t = 49.752019\n"
     ]
    },
    {
     "name": "stderr",
     "output_type": "stream",
     "text": [
      "                                                                                "
     ]
    },
    {
     "name": "stdout",
     "output_type": "stream",
     "text": [
      "ψ̂(t) = 1.914536e-01 → ↑ l ← t (Runtime: 9.78s)\n",
      "─────────────────────────────\n",
      "[9/14] t = 49.849572\n"
     ]
    },
    {
     "name": "stderr",
     "output_type": "stream",
     "text": [
      "                                                                                "
     ]
    },
    {
     "name": "stdout",
     "output_type": "stream",
     "text": [
      "ψ̂(t) = 1.116063e-01 → ↑ l ← t (Runtime: 9.70s)\n",
      "─────────────────────────────\n",
      "[10/14] t = 49.898348\n"
     ]
    },
    {
     "name": "stderr",
     "output_type": "stream",
     "text": [
      "                                                                                "
     ]
    },
    {
     "name": "stdout",
     "output_type": "stream",
     "text": [
      "ψ̂(t) = 7.670351e-02 → ↑ l ← t (Runtime: 9.65s)\n",
      "─────────────────────────────\n",
      "[11/14] t = 49.922737\n"
     ]
    },
    {
     "name": "stderr",
     "output_type": "stream",
     "text": [
      "                                                                                "
     ]
    },
    {
     "name": "stdout",
     "output_type": "stream",
     "text": [
      "ψ̂(t) = 5.223339e-02 → ↑ l ← t (Runtime: 9.58s)\n",
      "─────────────────────────────\n",
      "[12/14] t = 49.934931\n"
     ]
    },
    {
     "name": "stderr",
     "output_type": "stream",
     "text": [
      "                                                                                "
     ]
    },
    {
     "name": "stdout",
     "output_type": "stream",
     "text": [
      "ψ̂(t) = 3.157584e-02 → ↑ l ← t (Runtime: 9.78s)\n",
      "─────────────────────────────\n",
      "[13/14] t = 49.941028\n"
     ]
    },
    {
     "name": "stderr",
     "output_type": "stream",
     "text": [
      "                                                                                "
     ]
    },
    {
     "name": "stdout",
     "output_type": "stream",
     "text": [
      "ψ̂(t) = 1.622612e-02 → ↑ l ← t (Runtime: 9.67s)\n",
      "─────────────────────────────\n",
      "[14/14] t = 49.944076\n"
     ]
    },
    {
     "name": "stderr",
     "output_type": "stream",
     "text": [
      "                                                                                "
     ]
    },
    {
     "name": "stdout",
     "output_type": "stream",
     "text": [
      "ψ̂(t) = 8.283066e-03 → ↑ l ← t (Runtime: 9.60s)\n",
      "FC-BiO terminated (Total runtime: 125.92s)\n"
     ]
    }
   ],
   "source": [
    "\n",
    "'''\n",
    "def parse_args():\n",
    "    parser = argparse.ArgumentParser()\n",
    "    parser.add_argument('--lr', type=float, default=0.01)\n",
    "    parser.add_argument('--seed', type=int, default=42)\n",
    "    return parser.parse_args()\n",
    "\n",
    "if __name__ == \"__main__\":\n",
    "    args = parse_args()\n",
    "    here = os.path.dirname(os.path.abspath(__file__))\n",
    "'''\n",
    "# Load data\n",
    "X, y = load_rcv1_data(n_samples=10000, label_idx=0, path='data')\n",
    "print(f\"Data loaded: X shape {X.shape}, y shape {y.shape}\")\n",
    "\n",
    "# Obtain g_opt and f_opt\n",
    "bound = 50\n",
    "_, __, g_opt = hinge_loss_minimize(X, y, bound=bound)\n",
    "print(f'Type of _: {type(_)}')\n",
    "print(f\"Optimal hinge loss: {g_opt:.4f}\")\n",
    "w_opt, b_opt, xi_opt, u_opt, f_opt = L1_norm_second_minimize(X, y, g_opt, bound=bound)\n",
    "print(f\"Optimal upper L1 norm: {f_opt:.4f}\")\n",
    "\n",
    "# Prepare common parameters for algorithms\n",
    "X = X.toarray()  # Convert to dense array if needed\n",
    "n, d = X.shape\n",
    "f_hat = np.linalg.norm(_.copy(), ord=1) / d # upper bound for FC-BiO\n",
    "R = bound * np.sqrt(d + 1)\n",
    "Lf = np.sqrt(d) / d\n",
    "Lg = np.sqrt(np.sum(np.square(np.mean(X, axis=0))) + 1)\n",
    "L  = max(Lf, Lg)\n",
    "initial = np.random.uniform(-bound, bound, size=d + 1)  # Initial point for optimization\n",
    "\n",
    "# Initialize and train BiCS algorithm\n",
    "bics = BiCS(X, y, L, R, bound, initial, num_iter=1000)\n",
    "bics.solve(bics.initial, start_iter=1, end_iter=1000)\n",
    "\n",
    "# Initialize and train FCBiO algorithm\n",
    "fcbio = FCBiO(X, y, L, bound, initial, T=1000, l=0, u=f_hat, hat_opt_g_x=g_opt, eps=1e-2)\n",
    "_, fcbio_f, fcbio_g = fcbio.solve()\n",
    "\n",
    "    "
   ]
  },
  {
   "cell_type": "code",
   "execution_count": 22,
   "id": "984dce1e-9136-4daa-bb28-13296f5355e4",
   "metadata": {},
   "outputs": [],
   "source": [
    "from utils import *"
   ]
  },
  {
   "cell_type": "code",
   "execution_count": 23,
   "id": "9034fb15-73f6-481b-95f0-ae6544c6b17b",
   "metadata": {},
   "outputs": [
    {
     "ename": "KeyError",
     "evalue": "0",
     "output_type": "error",
     "traceback": [
      "\u001b[0;31m---------------------------------------------------------------------------\u001b[0m",
      "\u001b[0;31mKeyError\u001b[0m                                  Traceback (most recent call last)",
      "Cell \u001b[0;32mIn[23], line 7\u001b[0m\n\u001b[1;32m      5\u001b[0m results \u001b[38;5;241m=\u001b[39m [bics, fcbio]\n\u001b[1;32m      6\u001b[0m algorithms \u001b[38;5;241m=\u001b[39m {\u001b[38;5;124m'\u001b[39m\u001b[38;5;124m0\u001b[39m\u001b[38;5;124m'\u001b[39m: \u001b[38;5;124m'\u001b[39m\u001b[38;5;124mBiCS\u001b[39m\u001b[38;5;124m'\u001b[39m, \u001b[38;5;124m'\u001b[39m\u001b[38;5;124m1\u001b[39m\u001b[38;5;124m'\u001b[39m: \u001b[38;5;124m'\u001b[39m\u001b[38;5;124mFCBiO\u001b[39m\u001b[38;5;124m'\u001b[39m}\n\u001b[0;32m----> 7\u001b[0m save(save_path, \u001b[38;5;241m*\u001b[39mresults, \u001b[38;5;241m*\u001b[39m\u001b[38;5;241m*\u001b[39malgorithms)\n\u001b[1;32m      8\u001b[0m \u001b[38;5;28mprint\u001b[39m(\u001b[38;5;124mf\u001b[39m\u001b[38;5;124m\"\u001b[39m\u001b[38;5;124mResults saved to \u001b[39m\u001b[38;5;132;01m{\u001b[39;00msave_path\u001b[38;5;132;01m}\u001b[39;00m\u001b[38;5;124m\"\u001b[39m)\n\u001b[1;32m     10\u001b[0m \u001b[38;5;66;03m# Plot results\u001b[39;00m\n",
      "File \u001b[0;32m~/Desktop/Bilevel-Optimization/utils/save.py:9\u001b[0m, in \u001b[0;36msave\u001b[0;34m(path, *args, **kwargs)\u001b[0m\n\u001b[1;32m      6\u001b[0m     os\u001b[38;5;241m.\u001b[39mmakedirs(path)\n\u001b[1;32m      8\u001b[0m \u001b[38;5;28;01mfor\u001b[39;00m i, arg \u001b[38;5;129;01min\u001b[39;00m \u001b[38;5;28menumerate\u001b[39m(args):\n\u001b[0;32m----> 9\u001b[0m     full_path \u001b[38;5;241m=\u001b[39m os\u001b[38;5;241m.\u001b[39mpath\u001b[38;5;241m.\u001b[39mjoin(path, \u001b[38;5;124mf\u001b[39m\u001b[38;5;124m\"\u001b[39m\u001b[38;5;132;01m{\u001b[39;00mkwargs[i]\u001b[38;5;132;01m}\u001b[39;00m\u001b[38;5;124m.pkl\u001b[39m\u001b[38;5;124m\"\u001b[39m)\n\u001b[1;32m     10\u001b[0m     \u001b[38;5;28;01mwith\u001b[39;00m \u001b[38;5;28mopen\u001b[39m(full_path, \u001b[38;5;124m'\u001b[39m\u001b[38;5;124mwb\u001b[39m\u001b[38;5;124m'\u001b[39m) \u001b[38;5;28;01mas\u001b[39;00m f:\n\u001b[1;32m     11\u001b[0m         pickle\u001b[38;5;241m.\u001b[39mdump(arg, f)\n",
      "\u001b[0;31mKeyError\u001b[0m: 0"
     ]
    }
   ],
   "source": [
    "# Save results\n",
    "here = os.getcwd()\n",
    "save_path = os.path.join(here, f\"results/results_1000samples/\")\n",
    "os.makedirs(os.path.dirname(save_path), exist_ok=True)\n",
    "results = [bics, fcbio]\n",
    "algorithms = {'0': 'BiCS', '1': 'FCBiO'}\n",
    "save(save_path, *results, **algorithms)\n",
    "print(f\"Results saved to {save_path}\")\n",
    "\n",
    "# Plot results\n",
    "plot_path_upper = os.path.join(save_path, f\"plot_upper.png\")\n",
    "plot_upper = [np.array(bics.f_plot) - f_opt, fcbio_f - f_opt]\n",
    "plot(plot_path_upper, 'Upper Gap', *plot_upper, **algorithms)\n",
    "print(f\"Plots saved to {plot_path_upper}\")\n",
    "\n",
    "plot_path_lower = os.path.join(save_path, f\"plot_lower.png\")\n",
    "plot_lower = [np.array(bics.g_plot) - g_opt, fcbio_g - g_opt]\n",
    "plot(plot_path_lower, 'Lower Gap', *plot_lower, **algorithms)\n",
    "print(f\"Plots saved to {plot_path_lower}\")"
   ]
  },
  {
   "cell_type": "code",
   "execution_count": 12,
   "id": "9f2e1290-928a-4a44-9ba5-499e246ddea5",
   "metadata": {},
   "outputs": [
    {
     "ename": "TypeError",
     "evalue": "keywords must be strings",
     "output_type": "error",
     "traceback": [
      "\u001b[0;31m---------------------------------------------------------------------------\u001b[0m",
      "\u001b[0;31mTypeError\u001b[0m                                 Traceback (most recent call last)",
      "Cell \u001b[0;32mIn[12], line 4\u001b[0m\n\u001b[1;32m      1\u001b[0m \u001b[38;5;28;01mdef\u001b[39;00m\u001b[38;5;250m \u001b[39m\u001b[38;5;21mtest\u001b[39m(\u001b[38;5;241m*\u001b[39m\u001b[38;5;241m*\u001b[39mkwargs):\n\u001b[1;32m      2\u001b[0m     \u001b[38;5;28mprint\u001b[39m(kwargs)\n\u001b[0;32m----> 4\u001b[0m test(\u001b[38;5;241m*\u001b[39m\u001b[38;5;241m*\u001b[39malgorithms)\n",
      "\u001b[0;31mTypeError\u001b[0m: keywords must be strings"
     ]
    }
   ],
   "source": [
    "def test(**kwargs):\n",
    "    print(kwargs)\n",
    "\n",
    "test(**algorithms)"
   ]
  },
  {
   "cell_type": "code",
   "execution_count": null,
   "id": "0428fbea-f57e-4ff4-a19c-5100216cccb3",
   "metadata": {},
   "outputs": [],
   "source": []
  }
 ],
 "metadata": {
  "kernelspec": {
   "display_name": "Python [conda env:base] *",
   "language": "python",
   "name": "conda-base-py"
  },
  "language_info": {
   "codemirror_mode": {
    "name": "ipython",
    "version": 3
   },
   "file_extension": ".py",
   "mimetype": "text/x-python",
   "name": "python",
   "nbconvert_exporter": "python",
   "pygments_lexer": "ipython3",
   "version": "3.13.5"
  }
 },
 "nbformat": 4,
 "nbformat_minor": 5
}
